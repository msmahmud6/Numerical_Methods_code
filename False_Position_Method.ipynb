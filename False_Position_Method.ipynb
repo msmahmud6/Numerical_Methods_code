{
  "nbformat": 4,
  "nbformat_minor": 0,
  "metadata": {
    "colab": {
      "provenance": [],
      "authorship_tag": "ABX9TyMl0Sh5s35fbXpln99r6pE7",
      "include_colab_link": true
    },
    "kernelspec": {
      "name": "python3",
      "display_name": "Python 3"
    },
    "language_info": {
      "name": "python"
    }
  },
  "cells": [
    {
      "cell_type": "markdown",
      "metadata": {
        "id": "view-in-github",
        "colab_type": "text"
      },
      "source": [
        "<a href=\"https://colab.research.google.com/github/msmahmud6/Numerical_Methods_code/blob/False-Position-Method/False_Position_Method.ipynb\" target=\"_parent\"><img src=\"https://colab.research.google.com/assets/colab-badge.svg\" alt=\"Open In Colab\"/></a>"
      ]
    },
    {
      "cell_type": "code",
      "execution_count": 2,
      "metadata": {
        "id": "R9LcXoqSS4pO"
      },
      "outputs": [],
      "source": [
        "def f(x):\n",
        "  return x**2-x-2"
      ]
    },
    {
      "cell_type": "code",
      "source": [
        "xValue = []\n",
        "yValue = []\n",
        "\n",
        "i=1\n",
        "while i<=3:\n",
        "    xValue.append(i)\n",
        "    yValue.append(f(i))\n",
        "    i+=0.25\n",
        "print(xValue)\n",
        "print(yValue)"
      ],
      "metadata": {
        "colab": {
          "base_uri": "https://localhost:8080/"
        },
        "id": "_1_jNNBqTXaD",
        "outputId": "5c58b1f0-cf27-420e-e71a-1d18d2d321fb"
      },
      "execution_count": 5,
      "outputs": [
        {
          "output_type": "stream",
          "name": "stdout",
          "text": [
            "[1, 1.25, 1.5, 1.75, 2.0, 2.25, 2.5, 2.75, 3.0]\n",
            "[-2, -1.6875, -1.25, -0.6875, 0.0, 0.8125, 1.75, 2.8125, 4.0]\n"
          ]
        }
      ]
    },
    {
      "cell_type": "code",
      "source": [
        "import matplotlib.pyplot as plt\n",
        "\n",
        "plt.plot(xValue,yValue)\n",
        "plt.grid()\n",
        "plt.axhline(y=0, color='k')\n",
        "plt.axvline(x=0, color='k')\n",
        "plt.show()"
      ],
      "metadata": {
        "colab": {
          "base_uri": "https://localhost:8080/",
          "height": 430
        },
        "id": "CBwqvhCeUK1X",
        "outputId": "43693420-91b8-4c4a-fa54-917f702dca15"
      },
      "execution_count": 7,
      "outputs": [
        {
          "output_type": "display_data",
          "data": {
            "text/plain": [
              "<Figure size 640x480 with 1 Axes>"
            ],
            "image/png": "[encoded data removed]"
          },
          "metadata": {}
        }
      ]
    },
    {
      "cell_type": "code",
      "source": [
        "x1 = 1\n",
        "x2 = 3\n",
        "\n",
        "def false_position(x1,x2):\n",
        "  for i in range(0,100):\n",
        "    fx1 = f(x1)\n",
        "    fx2 = f(x2)\n",
        "\n",
        "    if fx1*fx2 >= 0:\n",
        "      print(\"No Root Found.\")\n",
        "      break\n",
        "    else:\n",
        "      x0 = x1 - (fx1*(x2-x1)/(fx2-fx1))\n",
        "      fx0 = f(x0)\n",
        "      if fx0 == 0:\n",
        "        print(\"Root Found.\")\n",
        "        return x0\n",
        "      elif fx0*fx1 < 0:\n",
        "        x2 = x0\n",
        "      else:\n",
        "        x1 = x0\n",
        "  return x0\n",
        "\n",
        "\n"
      ],
      "metadata": {
        "id": "0QjEuTceUeye"
      },
      "execution_count": 8,
      "outputs": []
    },
    {
      "cell_type": "code",
      "source": [
        "false_position(x1,x2)"
      ],
      "metadata": {
        "colab": {
          "base_uri": "https://localhost:8080/"
        },
        "id": "tWj09r7CWK2O",
        "outputId": "ad098dff-f83b-4a43-b21a-54fff46a99f5"
      },
      "execution_count": 9,
      "outputs": [
        {
          "output_type": "stream",
          "name": "stdout",
          "text": [
            "Root Found.\n"
          ]
        },
        {
          "output_type": "execute_result",
          "data": {
            "text/plain": [
              "2.0"
            ]
          },
          "metadata": {},
          "execution_count": 9
        }
      ]
    }
  ]
}