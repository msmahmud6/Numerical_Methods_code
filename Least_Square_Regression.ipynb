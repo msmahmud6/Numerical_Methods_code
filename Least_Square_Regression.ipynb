{
  "nbformat": 4,
  "nbformat_minor": 0,
  "metadata": {
    "colab": {
      "provenance": []
    },
    "kernelspec": {
      "name": "python3",
      "display_name": "Python 3"
    },
    "language_info": {
      "name": "python"
    }
  },
  "cells": [
    {
      "cell_type": "code",
      "execution_count": 4,
      "metadata": {
        "id": "5W9ES4RUEVgY"
      },
      "outputs": [],
      "source": [
        "x_arr = [1,2,3,4,5]\n",
        "y_arr = [3,4,5,6,8]\n",
        "n = len(x_arr)\n",
        "x = 9"
      ]
    },
    {
      "cell_type": "code",
      "source": [
        "def least_square_regression(x_arr, y_arr, n,x):\n",
        "  sum_x = sum(x_arr)\n",
        "  sum_y = sum(y_arr)\n",
        "  x_square = [i**2 for i in x_arr]\n",
        "  mult_x_y = [x_arr[i]*y_arr[i] for i in range(n)]\n",
        "  sum_x_square = sum(x_square)\n",
        "  sum_mult_x_y = sum(mult_x_y)\n",
        "\n",
        "  b = (n*sum_mult_x_y - sum_x*sum_y)/(n*sum_x_square - sum_x**2)\n",
        "  a = (sum_y/n) - b*(sum_x/n)\n",
        "  y = a + b*x\n",
        "  return y"
      ],
      "metadata": {
        "id": "RZk1ub-gE5i4"
      },
      "execution_count": 6,
      "outputs": []
    },
    {
      "cell_type": "code",
      "source": [
        "print(least_square_regression(x_arr, y_arr, n,x))"
      ],
      "metadata": {
        "colab": {
          "base_uri": "https://localhost:8080/"
        },
        "id": "GcRikHBbIKz0",
        "outputId": "47cbd2f2-6321-4e31-ebda-4db59f4f556f"
      },
      "execution_count": 8,
      "outputs": [
        {
          "output_type": "stream",
          "name": "stdout",
          "text": [
            "12.399999999999999\n"
          ]
        }
      ]
    }
  ]
}