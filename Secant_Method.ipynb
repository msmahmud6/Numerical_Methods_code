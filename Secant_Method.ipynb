{
  "nbformat": 4,
  "nbformat_minor": 0,
  "metadata": {
    "colab": {
      "provenance": []
    },
    "kernelspec": {
      "name": "python3",
      "display_name": "Python 3"
    },
    "language_info": {
      "name": "python"
    }
  },
  "cells": [
    {
      "cell_type": "code",
      "execution_count": null,
      "metadata": {
        "id": "nn8VSH9ZGkGu"
      },
      "outputs": [],
      "source": [
        "def f(x):\n",
        "    return x**2-4*x-10\n",
        "\n",
        "x1 = 4\n",
        "x2 = 2\n",
        "# list_of_roots = []\n",
        "\n"
      ]
    },
    {
      "cell_type": "code",
      "source": [
        "def secant_method(x1,x2):\n",
        "  for i in range(100):\n",
        "    x3 = x2 - ((f(x2)*(x2-x1))/abs((f(x2)-(f(x1)))))\n",
        "    print('Iteration-%d, x2 = %0.6f and f(x2) = %0.6f' % (i, x3, f(x3)))\n",
        "    x1 = x2\n",
        "    x2 = x3\n",
        "    if x3 == 0:\n",
        "      return print(\"Root Found\")\n",
        "      break\n",
        "\n",
        "  return x3\n"
      ],
      "metadata": {
        "id": "kYTPfXnaG28f"
      },
      "execution_count": null,
      "outputs": []
    },
    {
      "cell_type": "code",
      "source": [
        "root = secant_method(4,2)\n",
        "print(root)"
      ],
      "metadata": {
        "colab": {
          "base_uri": "https://localhost:8080/"
        },
        "id": "aKHlOc6ZHjFR",
        "outputId": "c5d2d131-fb7d-4e65-9aea-4ccd9225658b"
      },
      "execution_count": null,
      "outputs": [
        {
          "output_type": "stream",
          "name": "stdout",
          "text": [
            "Iteration-0, x2 = -5.000000 and f(x2) = 35.000000\n",
            "Iteration-1, x2 = 0.000000 and f(x2) = -10.000000\n",
            "Root Found\n",
            "None\n"
          ]
        }
      ]
    }
  ]
}