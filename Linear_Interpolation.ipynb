{
  "nbformat": 4,
  "nbformat_minor": 0,
  "metadata": {
    "colab": {
      "provenance": []
    },
    "kernelspec": {
      "name": "python3",
      "display_name": "Python 3"
    },
    "language_info": {
      "name": "python"
    }
  },
  "cells": [
    {
      "cell_type": "code",
      "execution_count": 9,
      "metadata": {
        "id": "ijzM1bHTtQDz"
      },
      "outputs": [],
      "source": [
        "x_arr = [1,2,3,4,5]\n",
        "fx_arr = [1,1.4142,1.7321,2,2.2361]\n",
        "x = 2.5"
      ]
    },
    {
      "cell_type": "code",
      "source": [
        "def linear_interpolation(x, x_arr, fx_arr):\n",
        "  for i in range(len(x_arr)):\n",
        "    if x_arr[i] <= x and x < x_arr[i+1]:\n",
        "      x1 = x_arr[i]\n",
        "      x2 = x_arr[i+1]\n",
        "      y1 = fx_arr[i]\n",
        "      y2 = fx_arr[i+1]\n",
        "      y = y1 + ((y2-y1)/(x2-x1))*(x-x1)\n",
        "      return y"
      ],
      "metadata": {
        "id": "uLSMyU9duO-X"
      },
      "execution_count": 10,
      "outputs": []
    },
    {
      "cell_type": "code",
      "source": [
        "linear_interpolation(x=x,x_arr=x_arr,fx_arr=fx_arr)"
      ],
      "metadata": {
        "colab": {
          "base_uri": "https://localhost:8080/"
        },
        "id": "_bR6ZH0svBJb",
        "outputId": "68f5d81b-2ae7-4468-bbbb-5e1ecb56472c"
      },
      "execution_count": 11,
      "outputs": [
        {
          "output_type": "execute_result",
          "data": {
            "text/plain": [
              "1.57315"
            ]
          },
          "metadata": {},
          "execution_count": 11
        }
      ]
    }
  ]
}