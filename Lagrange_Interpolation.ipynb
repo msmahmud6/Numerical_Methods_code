{
  "nbformat": 4,
  "nbformat_minor": 0,
  "metadata": {
    "colab": {
      "provenance": []
    },
    "kernelspec": {
      "name": "python3",
      "display_name": "Python 3"
    },
    "language_info": {
      "name": "python"
    }
  },
  "cells": [
    {
      "cell_type": "code",
      "execution_count": 21,
      "metadata": {
        "id": "esionzayyX4B"
      },
      "outputs": [],
      "source": [
        "x_arr = [0,1,2,3]\n",
        "fx_arr = [0, 1.7183, 6.3891, 19.085]\n",
        "x = 1.5\n",
        "order = 3"
      ]
    },
    {
      "cell_type": "code",
      "source": [
        "def lagrange(x,order,x_arr,fx_arr):\n",
        "  l = []\n",
        "  for i in range(order+1):\n",
        "    li = 1\n",
        "    for j in range(order+1):\n",
        "      if i!=j:\n",
        "        li = li*(x-x_arr[j])/(x_arr[i]-x_arr[j])\n",
        "    l.append(li)\n",
        "  px = 0\n",
        "  for i in range(order+1):\n",
        "    px = px + fx_arr[i]*l[i]\n",
        "  return px"
      ],
      "metadata": {
        "id": "QdlULxqk1lN-"
      },
      "execution_count": 22,
      "outputs": []
    },
    {
      "cell_type": "code",
      "source": [
        "lagrange(x,order,x_arr,fx_arr)"
      ],
      "metadata": {
        "colab": {
          "base_uri": "https://localhost:8080/"
        },
        "id": "mP8ZUCEN2qlX",
        "outputId": "a847ca48-ce38-4830-8bdb-9a5e6bb05014"
      },
      "execution_count": 23,
      "outputs": [
        {
          "output_type": "execute_result",
          "data": {
            "text/plain": [
              "3.3676"
            ]
          },
          "metadata": {},
          "execution_count": 23
        }
      ]
    }
  ]
}